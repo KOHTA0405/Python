{
 "cells": [
  {
   "cell_type": "markdown",
   "id": "a3ebd603-eab2-438f-8967-a5df04b5875d",
   "metadata": {},
   "source": [
    "# かめさんPython基礎講座"
   ]
  },
  {
   "cell_type": "markdown",
   "id": "154f0613-98b6-46bf-86dc-0185b210299f",
   "metadata": {},
   "source": [
    "## enumerate\n",
    "for文で回したいリストのインデックスも取得できる"
   ]
  },
  {
   "cell_type": "code",
   "execution_count": null,
   "id": "2b6b0e9c-83e3-42e7-b880-9933e5928e5f",
   "metadata": {},
   "outputs": [],
   "source": [
    "fruits = ['apple', 'banana', 'grapes', 'melon']\n",
    "\n",
    "for idx, fruit in enumerate(fruits):\n",
    "    print(fruit)"
   ]
  },
  {
   "cell_type": "code",
   "execution_count": null,
   "id": "add6583a-9f08-4675-9ef7-c11a89ad8778",
   "metadata": {},
   "outputs": [],
   "source": [
    "for x in enumerate(fruits):\n",
    "    print(x)\n",
    "print(type(x))"
   ]
  },
  {
   "cell_type": "markdown",
   "id": "5cb0a48e-6e4a-4ce6-adfe-df6e42d59849",
   "metadata": {},
   "source": [
    "## リスト内包表記"
   ]
  },
  {
   "cell_type": "code",
   "execution_count": null,
   "id": "91966078-1906-4d25-8c91-edd7d82381bb",
   "metadata": {},
   "outputs": [],
   "source": [
    "square_list = []\n",
    "\n",
    "for i in range(10):\n",
    "    square_list.append(i ** 2)\n",
    "print(square_list)"
   ]
  },
  {
   "cell_type": "code",
   "execution_count": null,
   "id": "5ed86308-1b45-4bb0-92bc-475a03cbcb63",
   "metadata": {},
   "outputs": [],
   "source": [
    "square_list = [i ** 2 for i in range(10) if i % 2 == 0]\n",
    "square_list"
   ]
  },
  {
   "cell_type": "markdown",
   "id": "1d534587-e59a-4e77-b3cf-087f3986eb28",
   "metadata": {},
   "source": [
    "## タプル\n",
    "変更できないリスト"
   ]
  },
  {
   "cell_type": "code",
   "execution_count": null,
   "id": "0c7e8c2a-65d7-48d2-afe0-f6cf935b3ea4",
   "metadata": {},
   "outputs": [],
   "source": [
    "date_of_birth = (1990, 2, 3)\n",
    "date_of_birth[:2]"
   ]
  },
  {
   "cell_type": "code",
   "execution_count": null,
   "id": "3df4549d-0258-4e9b-a3a1-797c580711ec",
   "metadata": {},
   "outputs": [],
   "source": [
    "year, month, date = date_of_birth\n",
    "print(year)\n",
    "print(month)\n",
    "print(date)"
   ]
  },
  {
   "cell_type": "markdown",
   "id": "3246cf01-d297-4659-9d93-01717440050c",
   "metadata": {},
   "source": [
    "## dictionary\n",
    "キー(key)とバリュー(value)の組み合わせでデータを保持"
   ]
  },
  {
   "cell_type": "code",
   "execution_count": 2,
   "id": "b8d0982c-de5a-420c-8979-a893d0b4ee43",
   "metadata": {},
   "outputs": [
    {
     "name": "stdout",
     "output_type": "stream",
     "text": [
      "yellow\n"
     ]
    }
   ],
   "source": [
    "fruits_colors = {'apple': 'red', 'lemon': 'yellow', 'grapes': 'purple'}\n",
    "print(fruits_colors['lemon'])  # keyを指定して呼び出す"
   ]
  },
  {
   "cell_type": "code",
   "execution_count": null,
   "id": "e3b481b4-a629-4468-871c-c443e44f2992",
   "metadata": {},
   "outputs": [],
   "source": [
    "fruits_colors['peach'] = 'pink'\n",
    "fruits_colors['peach']"
   ]
  },
  {
   "cell_type": "code",
   "execution_count": null,
   "id": "6a7bf39e-4151-41c7-9699-c32a2ee07bb1",
   "metadata": {},
   "outputs": [],
   "source": [
    "fruits_colors"
   ]
  },
  {
   "cell_type": "code",
   "execution_count": null,
   "id": "0bacfae6-9337-4091-82a2-fd1da7fd749d",
   "metadata": {},
   "outputs": [],
   "source": [
    "# dictionaryをfor文で回す\n",
    "for fruit in fruits_colors.keys():\n",
    "    print(fruit)"
   ]
  },
  {
   "cell_type": "code",
   "execution_count": null,
   "id": "a038747e-6f1c-4ea1-8efe-5abc90549d23",
   "metadata": {},
   "outputs": [],
   "source": [
    "# dictionaryをfor文で回す\n",
    "for fruit in fruits_colors.values():\n",
    "    print(fruit)"
   ]
  },
  {
   "cell_type": "code",
   "execution_count": null,
   "id": "1a84aac1-7c9e-4523-9c48-57bc4a046471",
   "metadata": {},
   "outputs": [],
   "source": [
    "# dictionaryをfor文で回す\n",
    "for fruit in fruits_colors:\n",
    "    print(fruit)"
   ]
  },
  {
   "cell_type": "code",
   "execution_count": null,
   "id": "7db87a59-f324-4c02-ae30-5a4b75aff22e",
   "metadata": {},
   "outputs": [],
   "source": [
    "# dictionaryをfor文で回す\n",
    "for item in fruits_colors.items():\n",
    "    print(item)"
   ]
  },
  {
   "cell_type": "markdown",
   "id": "95b0ef76-bd7c-4c22-9fb4-74b8f02e98b5",
   "metadata": {},
   "source": [
    "## dictionary型データのメソッド"
   ]
  },
  {
   "cell_type": "code",
   "execution_count": 3,
   "id": "0bc5b252-01ae-4a94-aac3-0ce9720f20b5",
   "metadata": {},
   "outputs": [
    {
     "data": {
      "text/plain": [
       "'Nothing'"
      ]
     },
     "execution_count": 3,
     "metadata": {},
     "output_type": "execute_result"
    }
   ],
   "source": [
    "fruit = input('フルーツの名前を指定してください')\n",
    "fruits_colors.get('melon', 'Nothing')  # .get('key', デフォルト値)"
   ]
  },
  {
   "cell_type": "code",
   "execution_count": null,
   "id": "f7308ef6-9b83-46ab-8336-81905496d8db",
   "metadata": {},
   "outputs": [],
   "source": [
    "# .update dict.同士の結合\n",
    "fruits_color2 = {'banana': 'yellow', 'kiwi': 'green'}\n",
    "fruits_colors.update(fruits_color2)\n",
    "print(fruits_colors)"
   ]
  },
  {
   "cell_type": "code",
   "execution_count": null,
   "id": "1d3593a8-5dc5-4bf6-811f-dfb222af714a",
   "metadata": {},
   "outputs": [],
   "source": [
    "age = int(input('何歳ですか？:'))\n",
    "casino_age = 18\n",
    "\n",
    "game_no_name = {'1': 'ルーレット', '2': 'ブラックジャック', '3': 'ポーカー'}\n",
    "\n",
    "if age >= casino_age:\n",
    "    while True:\n",
    "        print('遊びたいゲームを選んでください：')\n",
    "        for no, name in game_no_name.items():\n",
    "            print('{}: {}'.format(no, name))\n",
    "        game = input(':')\n",
    "        if game in game_no_name.keys():\n",
    "            print(f'あなたは、{game_no_name[game]}を選びました')\n",
    "            break\n",
    "        else:\n",
    "            print('1~3を選んでください')\n",
    "else:\n",
    "    print('{}歳未満の人は入場できません'.format(casino_age))"
   ]
  },
  {
   "cell_type": "markdown",
   "id": "456ed61d-6831-48ad-8e76-a3588f00a8e3",
   "metadata": {},
   "source": [
    "## セット(sets)型\n",
    "重複しないリスト, 順番も持たない"
   ]
  },
  {
   "cell_type": "code",
   "execution_count": null,
   "id": "cde1c037-90be-4598-be87-9d2e3dd66e9e",
   "metadata": {},
   "outputs": [],
   "source": [
    "fruits = {'apple', 'peach', 'apple', 'lemon', 'grapes'}\n",
    "print(fruits)"
   ]
  },
  {
   "cell_type": "markdown",
   "id": "00ef4d84-a223-493e-9d90-0e8eefeb2171",
   "metadata": {},
   "source": [
    "## mutableとimmutable\n",
    "mutable : 変更可能、100個とか200個とかたくさんの要素を持つオブジェクト.  \n",
    "immutable : 変更不可能"
   ]
  },
  {
   "cell_type": "code",
   "execution_count": null,
   "id": "b7c40c6d-9ee6-4a6c-b211-794680cc12a8",
   "metadata": {},
   "outputs": [],
   "source": [
    "fruits = ['apple', 'peach', 'grapes']\n",
    "print(f'fruitsのIDは{id(fruits)}です')\n",
    "fruits.append('lemon')\n",
    "print(f'fruitsのIDは{id(fruits)}です')"
   ]
  },
  {
   "cell_type": "code",
   "execution_count": null,
   "id": "049e098a-f13f-40c2-8e19-36b077d9b6b5",
   "metadata": {},
   "outputs": [],
   "source": [
    "fruit = 'apple'\n",
    "print(f'fruitのIDは{id(fruit)}です')\n",
    "fruit += ', lemon'\n",
    "print(f'fruitのIDは{id(fruit)}です')"
   ]
  },
  {
   "cell_type": "code",
   "execution_count": null,
   "id": "56d64a54-b256-4af3-8fe8-148900d61543",
   "metadata": {},
   "outputs": [],
   "source": [
    "# ダメな例\n",
    "# 1-2-3-...を作りたい\n",
    "text = ''\n",
    "for i in range(1, 11):\n",
    "    if i == 1:\n",
    "        text += str(i)\n",
    "    else:\n",
    "        text += '-' + str(i)\n",
    "    print(text, id(text))\n",
    "print(text)\n",
    "\n",
    "# このとき1回1回のtextにはそれぞれ別のIDが付与されてる"
   ]
  },
  {
   "cell_type": "code",
   "execution_count": null,
   "id": "87d46b71-e2e7-4310-bb59-216c42f91307",
   "metadata": {},
   "outputs": [],
   "source": [
    "# 良い例\n",
    "no_list = []\n",
    "for i in range(1, 11):\n",
    "    no_list.append(str(i))\n",
    "text = '-'.join(no_list)\n",
    "text"
   ]
  },
  {
   "cell_type": "code",
   "execution_count": null,
   "id": "58e3d47d-4500-4b2c-aaa2-dfe311309d6a",
   "metadata": {},
   "outputs": [],
   "source": [
    "no_list = [str(i) for i in range(1, 11)]\n",
    "text = '-'.join(no_list)\n",
    "text"
   ]
  },
  {
   "cell_type": "code",
   "execution_count": null,
   "id": "e4af13eb-2a9a-4c50-8d1d-90abdebb5759",
   "metadata": {},
   "outputs": [],
   "source": []
  }
 ],
 "metadata": {
  "kernelspec": {
   "display_name": "Python 3.8.8 64-bit ('base': conda)",
   "language": "python",
   "name": "python388jvsc74a57bd02006cfe970f9319ad1498675e168e14af2f6c7a486ea8081b1f427bead485eeb"
  },
  "language_info": {
   "codemirror_mode": {
    "name": "ipython",
    "version": 3
   },
   "file_extension": ".py",
   "mimetype": "text/x-python",
   "name": "python",
   "nbconvert_exporter": "python",
   "pygments_lexer": "ipython3",
   "version": "3.8.8"
  },
  "metadata": {
   "interpreter": {
    "hash": "2006cfe970f9319ad1498675e168e14af2f6c7a486ea8081b1f427bead485eeb"
   }
  },
  "toc-autonumbering": true,
  "toc-showcode": false,
  "toc-showmarkdowntxt": true,
  "toc-showtags": false
 },
 "nbformat": 4,
 "nbformat_minor": 5
}
