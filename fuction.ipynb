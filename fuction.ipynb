{
 "cells": [
  {
   "cell_type": "markdown",
   "metadata": {},
   "source": [
    "# 関数"
   ]
  },
  {
   "cell_type": "markdown",
   "metadata": {},
   "source": [
    "## *args"
   ]
  },
  {
   "cell_type": "code",
   "execution_count": 8,
   "metadata": {},
   "outputs": [],
   "source": [
    "def get_average(*args):\n",
    "    num = len(args)\n",
    "    if num == 0:\n",
    "        return 0\n",
    "    total = sum(args)\n",
    "    return total / num"
   ]
  },
  {
   "cell_type": "code",
   "execution_count": 9,
   "metadata": {},
   "outputs": [
    {
     "data": {
      "text/plain": [
       "2.0"
      ]
     },
     "execution_count": 9,
     "metadata": {},
     "output_type": "execute_result"
    }
   ],
   "source": [
    "get_average(1, 2, 3)"
   ]
  },
  {
   "cell_type": "markdown",
   "metadata": {},
   "source": [
    "## **kwargs"
   ]
  },
  {
   "cell_type": "code",
   "execution_count": 15,
   "metadata": {},
   "outputs": [],
   "source": [
    "def kwargs_func(**kwargs):\n",
    "    param1 = kwargs.get(\"param1\", 1)\n",
    "    param2 = kwargs.get(\"param2\", 2)\n",
    "    param3 = kwargs.get(\"param3\", 3)\n",
    "    print(f\"param1: {param1}, param2: {param2}, param3: {param3}\")"
   ]
  },
  {
   "cell_type": "code",
   "execution_count": 16,
   "metadata": {},
   "outputs": [
    {
     "name": "stdout",
     "output_type": "stream",
     "text": [
      "param1: 1, param2: banana, param3: 3\n"
     ]
    }
   ],
   "source": [
    "kwargs_func(param1=1, param2=\"banana\")"
   ]
  },
  {
   "cell_type": "markdown",
   "metadata": {},
   "source": [
    "## 参照渡し\n",
    "Pythonは、**参照渡し**"
   ]
  },
  {
   "cell_type": "code",
   "execution_count": 19,
   "metadata": {},
   "outputs": [],
   "source": [
    "def add_nums(a, b):\n",
    "    print(f\"第一引数aのID: {id(a)}\")\n",
    "    print(f\"第二引数bのID: {id(b)}\")\n",
    "    return a + b"
   ]
  },
  {
   "cell_type": "code",
   "execution_count": 22,
   "metadata": {},
   "outputs": [
    {
     "name": "stdout",
     "output_type": "stream",
     "text": [
      "oneのid: 4379389360\n",
      "twoのid: 4379389392\n",
      "第一引数aのID: 4379389360\n",
      "第二引数bのID: 4379389392\n",
      "3\n"
     ]
    }
   ],
   "source": [
    "# 参照渡しなので、同じIDを指す\n",
    "one = 1\n",
    "two = 2\n",
    "print(f\"oneのid: {id(one)}\")\n",
    "print(f\"twoのid: {id(two)}\")\n",
    "print(add_nums(one, two))"
   ]
  },
  {
   "cell_type": "code",
   "execution_count": 28,
   "metadata": {},
   "outputs": [],
   "source": [
    "def add_one(num):\n",
    "    print(f\"変更前のnumのID: {id(num)}\")\n",
    "    num += 1\n",
    "    print(\n",
    "        f\"変更後のnumのID: {id(num)}\"\n",
    "    )  ## integerはイミュータブルなオブジェクトなので、IDが変わる\n",
    "    return num"
   ]
  },
  {
   "cell_type": "code",
   "execution_count": 29,
   "metadata": {},
   "outputs": [
    {
     "name": "stdout",
     "output_type": "stream",
     "text": [
      "4379389360\n",
      "関数呼び出し前のone: 1\n",
      "変更前のnumのID: 4379389360\n",
      "変更後のnumのID: 4379389392\n",
      "関数呼び出し後のone: 1\n"
     ]
    }
   ],
   "source": [
    "one = 1\n",
    "print(id(one))\n",
    "print(f\"関数呼び出し前のone: {one}\")\n",
    "add_one(one)\n",
    "print(f\"関数呼び出し後のone: {one}\")"
   ]
  },
  {
   "cell_type": "markdown",
   "metadata": {},
   "source": [
    "## nested function"
   ]
  },
  {
   "cell_type": "code",
   "execution_count": 34,
   "metadata": {},
   "outputs": [
    {
     "name": "stdout",
     "output_type": "stream",
     "text": [
      "This is inner function\n",
      "I am inner\n",
      "I am outer\n",
      "I am global\n"
     ]
    }
   ],
   "source": [
    "from zmq import PROBE_ROUTER\n",
    "\n",
    "\n",
    "msg = \"I am global\"\n",
    "\n",
    "\n",
    "def outer():\n",
    "    msg = \"I am outer\"\n",
    "\n",
    "    def inner():\n",
    "        msg = \"I am inner\"\n",
    "        print(\"This is inner function\")\n",
    "        print(msg)\n",
    "\n",
    "    inner()\n",
    "    print(msg)\n",
    "\n",
    "\n",
    "outer()\n",
    "print(msg)"
   ]
  },
  {
   "cell_type": "markdown",
   "metadata": {},
   "source": [
    "## カプセル化(encapsulation): 外からアクセスできないようにする(情報隠蔽)"
   ]
  },
  {
   "cell_type": "code",
   "execution_count": 37,
   "metadata": {},
   "outputs": [
    {
     "name": "stdout",
     "output_type": "stream",
     "text": [
      "ようこそカジノへ\n"
     ]
    }
   ],
   "source": [
    "def casino_entrance(age, min_age=21):\n",
    "    if age < min_age:\n",
    "        print(f\"{min_age}歳未満お断り\")\n",
    "        return\n",
    "\n",
    "    def inner_casino_entrance():\n",
    "        print(\"ようこそカジノへ\")\n",
    "\n",
    "    return inner_casino_entrance()\n",
    "\n",
    "\n",
    "casino_entrance(28)"
   ]
  },
  {
   "cell_type": "code",
   "execution_count": null,
   "metadata": {},
   "outputs": [],
   "source": []
  }
 ],
 "metadata": {
  "kernelspec": {
   "display_name": "venv",
   "language": "python",
   "name": "python3"
  },
  "language_info": {
   "codemirror_mode": {
    "name": "ipython",
    "version": 3
   },
   "file_extension": ".py",
   "mimetype": "text/x-python",
   "name": "python",
   "nbconvert_exporter": "python",
   "pygments_lexer": "ipython3",
   "version": "3.11.6"
  }
 },
 "nbformat": 4,
 "nbformat_minor": 2
}
