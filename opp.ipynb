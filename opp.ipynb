{
 "cells": [
  {
   "cell_type": "markdown",
   "metadata": {},
   "source": [
    "# オブジェクト指向プログラミング"
   ]
  },
  {
   "cell_type": "markdown",
   "metadata": {},
   "source": [
    "# Challenge\n",
    "* 銀行口座のAccountクラスを作る\n",
    "* 残高(balance)と口座名を元に口座(Account)を作る\n",
    "* withdrawメソッドとdepositメソッドで残高を変更する\n",
    "* 残高が足りなければ引き落とせないようにする\n",
    "* 口座番号(account_number)は今まで作成された口座のIDとなるように連番をふる\n",
    "* 残高が変更されたら、口座名、口座番号とその残高を表示する"
   ]
  },
  {
   "cell_type": "markdown",
   "metadata": {},
   "source": [
    "## リファクタ前"
   ]
  },
  {
   "cell_type": "code",
   "execution_count": 20,
   "metadata": {},
   "outputs": [],
   "source": [
    "class Account:\n",
    "    account_number = 0\n",
    "\n",
    "    def __init__(self, name, balance):\n",
    "        self.name = name\n",
    "        self.balance = balance\n",
    "        Account.account_number += 1\n",
    "\n",
    "    def display_account_info(self, process_name):\n",
    "        print(f\"口座番号：{Account.account_number}, {process_name}後残高：{self.balance}\")\n",
    "\n",
    "    def withdraw(self, amount):\n",
    "        process_name = \"出金\"\n",
    "        if self.balance < amount:\n",
    "            print(\"残高が不足しています\")\n",
    "        else:\n",
    "            self.balance -= amount\n",
    "            self.display_account_info(process_name)\n",
    "\n",
    "    def deposit(self, amount):\n",
    "        process_name = \"入金\"\n",
    "        self.balance += amount\n",
    "        self.display_account_info(process_name)"
   ]
  },
  {
   "cell_type": "markdown",
   "metadata": {},
   "source": [
    "## リファクタ後\n",
    "* account_numberをクラス変数に持っていればよいのでは？(リファクタ前)\n",
    "  * account_numberは、\"その口座のID\"。クラスに紐づくべきではなく、インスタンスにひもづくべき\n",
    "  * クラス変数にはあくまでも今までいくつ口座が作成されたかを示す\"count\"を保持する"
   ]
  },
  {
   "cell_type": "code",
   "execution_count": 39,
   "metadata": {},
   "outputs": [],
   "source": [
    "class Account:\n",
    "    count = 0\n",
    "\n",
    "    def __init__(self, name, balance):\n",
    "        self.name = name\n",
    "        self.balance = balance\n",
    "        self.account_number = Account.count\n",
    "        Account.count += 1\n",
    "\n",
    "    def display_account_info(self, process_name):\n",
    "        print(f\"口座番号：{self.account_number}, {process_name}後残高：{self.balance}\")\n",
    "\n",
    "    def withdraw(self, amount):\n",
    "        process_name = \"出金\"\n",
    "        if self.balance < amount:\n",
    "            print(\"残高が不足しています\")\n",
    "        else:\n",
    "            self.balance -= amount\n",
    "            self.display_account_info(process_name)\n",
    "\n",
    "    def deposit(self, amount):\n",
    "        process_name = \"入金\"\n",
    "        self.balance += amount\n",
    "        self.display_account_info(process_name)"
   ]
  },
  {
   "cell_type": "code",
   "execution_count": 30,
   "metadata": {},
   "outputs": [
    {
     "name": "stdout",
     "output_type": "stream",
     "text": [
      "口座番号：0, 入金後残高：15000\n",
      "口座番号：0, 出金後残高：12000\n",
      "残高が不足しています\n",
      "口座番号：1, 入金後残高：105000\n"
     ]
    }
   ],
   "source": [
    "taro = Account(\"taro\", 10000)\n",
    "taro.deposit(5000)\n",
    "taro.withdraw(3000)\n",
    "jiro = Account(\"jiro\", 5000)\n",
    "jiro.withdraw(10000)\n",
    "jiro.deposit(100000)"
   ]
  },
  {
   "cell_type": "markdown",
   "metadata": {},
   "source": [
    "# スタティックメソッド\n",
    "* インスタンスに紐づかないメソッド\n",
    "* @staticmethodデコレータを使う\n",
    "* 主にクラス内の便利関数のように使用する\n",
    "* 引数にselfを取らない(インスタンスの情報は使わないので)\n",
    "  * クラスの情報も使用しない\n",
    "* クラスからアクセスしてcallする\n",
    "* クラスの情報を使う場合はクラスメソッドを使う"
   ]
  },
  {
   "cell_type": "code",
   "execution_count": 37,
   "metadata": {},
   "outputs": [],
   "source": [
    "class MyClass:\n",
    "    def mymethod(self):\n",
    "        print(\"This is normal method! from {}\".format(self))\n",
    "\n",
    "    @staticmethod\n",
    "    def mystaticmethod():\n",
    "        print(\"This is staticmethod!\")"
   ]
  },
  {
   "cell_type": "code",
   "execution_count": 38,
   "metadata": {},
   "outputs": [
    {
     "name": "stdout",
     "output_type": "stream",
     "text": [
      "This is normal method! from <__main__.MyClass object at 0x111628110>\n",
      "This is staticmethod!\n",
      "This is staticmethod!\n"
     ]
    }
   ],
   "source": [
    "c = MyClass()\n",
    "c.mymethod()\n",
    "MyClass.mystaticmethod()\n",
    "c.mystaticmethod()  # 一応これでも呼べるが使わない。インスタンスの中のメソッドを先に探して、次にstaticnethodやclassmethodを探す"
   ]
  },
  {
   "cell_type": "markdown",
   "metadata": {},
   "source": [
    "## Challenge\n",
    "* 前回作成したAccountクラスに、取引(transaction)を記録する仕組みを追加する\n",
    "* 取引として保持する情報は、\n",
    "  * \"withdraw/depositの金額\"\n",
    "  * \"新しい残高\"\n",
    "  * \"日時\"\n",
    "* それぞれの取引情報をdictionaryとして保持し、それをlistでインスタンス変数で保持すればOK\n",
    "* 日時を作る関数をstaticmethodで作ってみよう"
   ]
  },
  {
   "cell_type": "markdown",
   "metadata": {},
   "source": [
    "## リファクタ前"
   ]
  },
  {
   "cell_type": "code",
   "execution_count": 55,
   "metadata": {},
   "outputs": [],
   "source": [
    "from datetime import datetime as dt"
   ]
  },
  {
   "cell_type": "code",
   "execution_count": 53,
   "metadata": {},
   "outputs": [
    {
     "data": {
      "text/plain": [
       "'21/01/2024, 13:35:51'"
      ]
     },
     "execution_count": 53,
     "metadata": {},
     "output_type": "execute_result"
    }
   ],
   "source": [
    "dt.now().strftime(\"%d/%m/%Y, %H:%M:%S\")"
   ]
  },
  {
   "cell_type": "code",
   "execution_count": 56,
   "metadata": {},
   "outputs": [],
   "source": [
    "class Account:\n",
    "    count = 0\n",
    "    transaction_list = []\n",
    "\n",
    "    def __init__(self, name, balance):\n",
    "        self.name = name\n",
    "        self.balance = balance\n",
    "        self.account_number = Account.count\n",
    "        Account.count += 1\n",
    "\n",
    "    @staticmethod\n",
    "    def current_datetime():\n",
    "        return dt.now()\n",
    "\n",
    "    def display_account_info(self, process_name):\n",
    "        print(f\"口座番号：{self.account_number}, {process_name}後残高：{self.balance}\")\n",
    "\n",
    "    # def transaction(self):\n",
    "    #     transaction_dict = {}\n",
    "\n",
    "    def withdraw(self, amount):\n",
    "        process_name = \"出金\"\n",
    "        transaction_dict = {}\n",
    "        if self.balance < amount:\n",
    "            print(\"残高が不足しています\")\n",
    "        else:\n",
    "            self.balance -= amount\n",
    "            transaction_dict[\"user\"] = self.name\n",
    "            transaction_dict[\"amount\"] = -amount\n",
    "            transaction_dict[\"balance\"] = self.balance\n",
    "            transaction_dict[\"datetime\"] = Account.current_datetime()\n",
    "            Account.transaction_list.append(transaction_dict)\n",
    "            self.display_account_info(process_name)\n",
    "\n",
    "    def deposit(self, amount):\n",
    "        transaction_dict = {}\n",
    "        process_name = \"入金\"\n",
    "        self.balance += amount\n",
    "        transaction_dict[\"user\"] = self.name\n",
    "        transaction_dict[\"amount\"] = amount\n",
    "        transaction_dict[\"balance\"] = self.balance\n",
    "        transaction_dict[\"datetime\"] = Account.current_datetime()\n",
    "        Account.transaction_list.append(transaction_dict)\n",
    "        self.display_account_info(process_name)"
   ]
  },
  {
   "cell_type": "code",
   "execution_count": 57,
   "metadata": {},
   "outputs": [
    {
     "name": "stdout",
     "output_type": "stream",
     "text": [
      "口座番号：0, 入金後残高：15000\n",
      "口座番号：0, 出金後残高：12000\n",
      "残高が不足しています\n",
      "口座番号：1, 入金後残高：105000\n"
     ]
    }
   ],
   "source": [
    "taro = Account(\"taro\", 10000)\n",
    "taro.deposit(5000)\n",
    "taro.withdraw(3000)\n",
    "jiro = Account(\"jiro\", 5000)\n",
    "jiro.withdraw(10000)\n",
    "jiro.deposit(100000)"
   ]
  },
  {
   "cell_type": "code",
   "execution_count": 58,
   "metadata": {},
   "outputs": [
    {
     "data": {
      "text/plain": [
       "[{'user': 'taro',\n",
       "  'amount': 5000,\n",
       "  'balance': 15000,\n",
       "  'datetime': datetime.datetime(2024, 1, 21, 13, 39, 3, 345366)},\n",
       " {'user': 'taro',\n",
       "  'amount': -3000,\n",
       "  'balance': 12000,\n",
       "  'datetime': datetime.datetime(2024, 1, 21, 13, 39, 3, 345441)},\n",
       " {'user': 'jiro',\n",
       "  'amount': 100000,\n",
       "  'balance': 105000,\n",
       "  'datetime': datetime.datetime(2024, 1, 21, 13, 39, 3, 345531)}]"
      ]
     },
     "execution_count": 58,
     "metadata": {},
     "output_type": "execute_result"
    }
   ],
   "source": [
    "Account.transaction_list"
   ]
  },
  {
   "cell_type": "markdown",
   "metadata": {},
   "source": [
    "## リファクタ後\n",
    "* 各ユーザーの取引履歴をインスタンス変数として保持するイメージ\n",
    "  * 自分が書いたのは、システム全体の取引テーブルに記録するイメージのみ"
   ]
  },
  {
   "cell_type": "code",
   "execution_count": 77,
   "metadata": {},
   "outputs": [],
   "source": [
    "class Account:\n",
    "    count = 0\n",
    "\n",
    "    def __init__(self, name, balance):\n",
    "        self.name = name\n",
    "        self.balance = balance\n",
    "        self.account_number = Account.count\n",
    "        self.transaction_history = []\n",
    "        Account.count += 1\n",
    "\n",
    "    @staticmethod\n",
    "    def get_current_datetime():\n",
    "        return dt.now().strftime(\"%Y-%m-%d %H:%M:%S\")\n",
    "\n",
    "    def display_account_info(self, process_name):\n",
    "        print(f\"口座番号：{self.account_number}, {process_name}後残高：{self.balance}\")\n",
    "\n",
    "    def withdraw(self, amount):\n",
    "        process_name = \"出金\"\n",
    "        if self.balance < amount:\n",
    "            print(\"残高が不足しています\")\n",
    "        else:\n",
    "            self.balance -= amount\n",
    "            self.add_transaction_history(-amount)\n",
    "            self.display_account_info(process_name)\n",
    "\n",
    "    def deposit(self, amount):\n",
    "        process_name = \"入金\"\n",
    "        self.balance += amount\n",
    "        self.add_transaction_history(amount)\n",
    "        self.display_account_info(process_name)\n",
    "\n",
    "    def add_transaction_history(self, amount):\n",
    "        transaction = {\n",
    "            \"withdraw/deposit\": amount,\n",
    "            \"new_balance\": self.balance,\n",
    "            \"datetime\": Account.get_current_datetime(),\n",
    "        }\n",
    "        self.transaction_history.append(transaction)\n",
    "\n",
    "    def show_transaction_history(self):\n",
    "        for transaction in self.transaction_history:\n",
    "            transaction_str_list = []\n",
    "            for k, v in transaction.items():\n",
    "                transaction_str_list.append(f\"{k}: {v}\")\n",
    "            print(\", \".join(transaction_str_list))"
   ]
  },
  {
   "cell_type": "code",
   "execution_count": 78,
   "metadata": {},
   "outputs": [
    {
     "name": "stdout",
     "output_type": "stream",
     "text": [
      "口座番号：0, 入金後残高：15000\n",
      "口座番号：0, 出金後残高：12000\n",
      "残高が不足しています\n",
      "口座番号：1, 入金後残高：105000\n",
      "withdraw/deposit: 5000, new_balance: 15000, datetime: 2024-01-21 14:00:58\n",
      "withdraw/deposit: -3000, new_balance: 12000, datetime: 2024-01-21 14:00:58\n"
     ]
    }
   ],
   "source": [
    "taro = Account(\"taro\", 10000)\n",
    "taro.deposit(5000)\n",
    "taro.withdraw(3000)\n",
    "jiro = Account(\"jiro\", 5000)\n",
    "jiro.withdraw(10000)\n",
    "jiro.deposit(100000)\n",
    "taro.show_transaction_history()"
   ]
  },
  {
   "cell_type": "markdown",
   "metadata": {},
   "source": [
    "# クラスメソッド\n",
    "* インスタンスに紐づかないメソッド\n",
    "* @classmethodデコレータを使う\n",
    "* 主にクラス内で便利関数のように使用する\n",
    "* **引数にclsを取って、クラスの情報にアクセスできる**\n",
    "* クラスからアクセスしてcallする\n",
    "* クラスメソッド内でインスタンスを生成して返すことも可能(ファクトリーメソッド)"
   ]
  },
  {
   "cell_type": "code",
   "execution_count": 84,
   "metadata": {},
   "outputs": [],
   "source": [
    "class MyClass:\n",
    "    classmethod_count = 0\n",
    "\n",
    "    def mymethod(self):\n",
    "        print(\"This is normal method! from {}\".format(self))\n",
    "\n",
    "    @staticmethod\n",
    "    def mystaticmethod():\n",
    "        print(\"This is staticmethod!\")\n",
    "\n",
    "    @classmethod\n",
    "    def myclassmethod(cls):\n",
    "        cls.classmethod_count += 1\n",
    "        print(f\"This is classmethod and now thoe count is {cls.classmethod_count}\")"
   ]
  },
  {
   "cell_type": "code",
   "execution_count": 85,
   "metadata": {},
   "outputs": [
    {
     "name": "stdout",
     "output_type": "stream",
     "text": [
      "This is staticmethod!\n",
      "This is classmethod and now thoe count is 1\n"
     ]
    }
   ],
   "source": [
    "c = MyClass()\n",
    "c.mystaticmethod()\n",
    "MyClass.myclassmethod()"
   ]
  },
  {
   "cell_type": "markdown",
   "metadata": {},
   "source": [
    "### ファクトリーメソッド"
   ]
  },
  {
   "cell_type": "code",
   "execution_count": 90,
   "metadata": {},
   "outputs": [],
   "source": [
    "from datetime import datetime as dt\n",
    "\n",
    "\n",
    "class Person:\n",
    "    def __init__(self, name, age) -> None:\n",
    "        self.name = name\n",
    "        self.age = age\n",
    "\n",
    "    @classmethod\n",
    "    def create_dob_from_age(cls, name, year, month, date):\n",
    "        today = dt.now()\n",
    "        # if today.month < month and today.date < date:\n",
    "        if (today.month, today.date) < (year, date):\n",
    "            age = today.year - year - 1\n",
    "        else:\n",
    "            age = today.year - year\n",
    "        return cls(name=name, age=age)"
   ]
  },
  {
   "cell_type": "code",
   "execution_count": 92,
   "metadata": {},
   "outputs": [
    {
     "name": "stdout",
     "output_type": "stream",
     "text": [
      "Emma\n",
      "34\n"
     ]
    }
   ],
   "source": [
    "john = Person(\"john\", 20)\n",
    "emma = Person.create_dob_from_age(\"Emma\", 1989, 4, 3)\n",
    "print(emma.name)\n",
    "print(emma.age)"
   ]
  },
  {
   "cell_type": "markdown",
   "metadata": {},
   "source": [
    "# private変数と名前修飾(name mangling)\n",
    "* private変数は、クラス外からアクセスできない変数\n",
    "* Pythonには「private変数」はない\n",
    "* 変数名の接頭辞に「_」をt蹴ることで、non publicにすることができる\n",
    "  * あくまでも慣習であり、強制力はない\n",
    "* 「__」(アンスコ2つ)をつけることで、名前修飾する\n",
    "  * 名前就職された変数名は、_<Class>__<attribute>のような形になる\n",
    "    * 例. _Account__balance\n",
    "  * 結果、private変数のような役割をつけることができる"
   ]
  },
  {
   "cell_type": "code",
   "execution_count": 3,
   "metadata": {},
   "outputs": [],
   "source": [
    "class Account:\n",
    "    def __init__(self, balance) -> None:\n",
    "        self.balance = balance\n",
    "\n",
    "    def deposit(self, amount):\n",
    "        self.balance += amount\n",
    "        self.show_balance()\n",
    "\n",
    "    def withdraw(self, amount):\n",
    "        if amount > self.balance:\n",
    "            print(\"残高が不足しています\")\n",
    "        else:\n",
    "            self.balance -= amount\n",
    "            self.show_balance()\n",
    "\n",
    "    def show_balance(self):\n",
    "        print(f\"残高は{self.balance}円です\")"
   ]
  },
  {
   "cell_type": "code",
   "execution_count": 5,
   "metadata": {},
   "outputs": [
    {
     "name": "stdout",
     "output_type": "stream",
     "text": [
      "残高は、13000円です\n",
      "残高は、8000円です\n",
      "-1000\n"
     ]
    }
   ],
   "source": [
    "my_account = Account(10000)\n",
    "my_account.deposit(3000)\n",
    "my_account.withdraw(5000)\n",
    "\n",
    "# 下記も実行できてしまう\n",
    "my_account.balance = -1000\n",
    "print(my_account.balance)"
   ]
  },
  {
   "cell_type": "markdown",
   "metadata": {},
   "source": [
    "## non public化\n",
    "* 慣習であり、あくまでも意思表示"
   ]
  },
  {
   "cell_type": "code",
   "execution_count": 6,
   "metadata": {},
   "outputs": [],
   "source": [
    "class Account:\n",
    "    def __init__(self, balance) -> None:\n",
    "        self._balance = balance\n",
    "\n",
    "    def deposit(self, amount):\n",
    "        self._balance += amount\n",
    "        self.show_balance()\n",
    "\n",
    "    def withdraw(self, amount):\n",
    "        if amount > self._balance:\n",
    "            print(\"残高が不足しています\")\n",
    "        else:\n",
    "            self._balance -= amount\n",
    "            self.show_balance()\n",
    "\n",
    "    def show_balance(self):\n",
    "        print(f\"残高は{self._balance}円です\")"
   ]
  },
  {
   "cell_type": "code",
   "execution_count": 8,
   "metadata": {},
   "outputs": [
    {
     "name": "stdout",
     "output_type": "stream",
     "text": [
      "残高は13000円です\n",
      "残高は8000円です\n",
      "-1000\n",
      "8000\n"
     ]
    }
   ],
   "source": [
    "my_account = Account(10000)\n",
    "my_account.deposit(3000)\n",
    "my_account.withdraw(5000)\n",
    "# 下記は実行できて、新たに\"balance\"変数に-1000がセットされる\n",
    "my_account.balance = -1000\n",
    "print(my_account.balance)\n",
    "print(my_account._balance)"
   ]
  },
  {
   "cell_type": "markdown",
   "metadata": {},
   "source": [
    "## 名前修飾"
   ]
  },
  {
   "cell_type": "code",
   "execution_count": 10,
   "metadata": {},
   "outputs": [],
   "source": [
    "class Account:\n",
    "    def __init__(self, balance) -> None:\n",
    "        self.__balance = balance\n",
    "\n",
    "    def deposit(self, amount):\n",
    "        self.__balance += amount\n",
    "        self.show_balance()\n",
    "\n",
    "    def withdraw(self, amount):\n",
    "        if amount > self.__balance:\n",
    "            print(\"残高が不足しています\")\n",
    "        else:\n",
    "            self.__balance -= amount\n",
    "            self.show_balance()\n",
    "\n",
    "    def show_balance(self):\n",
    "        print(f\"残高は{self.__balance}円です\")"
   ]
  },
  {
   "cell_type": "code",
   "execution_count": 15,
   "metadata": {},
   "outputs": [
    {
     "name": "stdout",
     "output_type": "stream",
     "text": [
      "['_Account__balance', '__class__', '__delattr__', '__dict__', '__dir__', '__doc__', '__eq__', '__format__', '__ge__', '__getattribute__', '__getstate__', '__gt__', '__hash__', '__init__', '__init_subclass__', '__le__', '__lt__', '__module__', '__ne__', '__new__', '__reduce__', '__reduce_ex__', '__repr__', '__setattr__', '__sizeof__', '__str__', '__subclasshook__', '__weakref__', 'deposit', 'show_balance', 'withdraw']\n"
     ]
    }
   ],
   "source": [
    "my_account = Account(10000)\n",
    "print(dir(my_account))"
   ]
  },
  {
   "cell_type": "code",
   "execution_count": 16,
   "metadata": {},
   "outputs": [
    {
     "name": "stdout",
     "output_type": "stream",
     "text": [
      "残高は13000円です\n",
      "残高は8000円です\n"
     ]
    },
    {
     "ename": "AttributeError",
     "evalue": "'Account' object has no attribute '__balance'",
     "output_type": "error",
     "traceback": [
      "\u001b[0;31m---------------------------------------------------------------------------\u001b[0m",
      "\u001b[0;31mAttributeError\u001b[0m                            Traceback (most recent call last)",
      "Cell \u001b[0;32mIn[16], line 3\u001b[0m\n\u001b[1;32m      1\u001b[0m my_account\u001b[38;5;241m.\u001b[39mdeposit(\u001b[38;5;241m3000\u001b[39m)\n\u001b[1;32m      2\u001b[0m my_account\u001b[38;5;241m.\u001b[39mwithdraw(\u001b[38;5;241m5000\u001b[39m)\n\u001b[0;32m----> 3\u001b[0m \u001b[38;5;28mprint\u001b[39m(\u001b[43mmy_account\u001b[49m\u001b[38;5;241;43m.\u001b[39;49m\u001b[43m__balance\u001b[49m)\n",
      "\u001b[0;31mAttributeError\u001b[0m: 'Account' object has no attribute '__balance'"
     ]
    }
   ],
   "source": [
    "my_account.deposit(3000)\n",
    "my_account.withdraw(5000)\n",
    "print(my_account.__balance)"
   ]
  },
  {
   "cell_type": "code",
   "execution_count": 18,
   "metadata": {},
   "outputs": [
    {
     "name": "stdout",
     "output_type": "stream",
     "text": [
      "残高は8000円です\n"
     ]
    }
   ],
   "source": [
    "# 下記は実行できて、名前修飾されたbalanceとは別に、新たに__balanceにセットされる\n",
    "my_account.__balance = -1000\n",
    "my_account.show_balance()"
   ]
  },
  {
   "cell_type": "code",
   "execution_count": 19,
   "metadata": {},
   "outputs": [
    {
     "name": "stdout",
     "output_type": "stream",
     "text": [
      "残高は-1000円です\n"
     ]
    }
   ],
   "source": [
    "# 下記は実行できてしまう。アクセス制御されるわけではない\n",
    "my_account._Account__balance = -1000\n",
    "my_account.show_balance()"
   ]
  },
  {
   "cell_type": "markdown",
   "metadata": {},
   "source": [
    "# getterとsetter\n",
    "* 直接読みに行ったり、値のバリデーションを行うために使用する"
   ]
  },
  {
   "cell_type": "code",
   "execution_count": 20,
   "metadata": {},
   "outputs": [],
   "source": [
    "class Person:\n",
    "    def __init__(self, name, age) -> None:\n",
    "        self.name = name\n",
    "        self.age = age"
   ]
  },
  {
   "cell_type": "code",
   "execution_count": 33,
   "metadata": {},
   "outputs": [],
   "source": [
    "# インスタンス変数を取得したり、変更するのを関数化する\n",
    "class Person:\n",
    "    def __init__(self, name, age) -> None:\n",
    "        self.name = name\n",
    "        self.age = age\n",
    "\n",
    "    def get_age(self):\n",
    "        print(\"get age called!!\")\n",
    "        return self.age\n",
    "\n",
    "    def set_age(self, age):\n",
    "        print(\"set_age called!!\")\n",
    "        if age < 0:\n",
    "            print(\"0以上の値を入れてください\")\n",
    "        else:\n",
    "            self.age = age"
   ]
  },
  {
   "cell_type": "code",
   "execution_count": 34,
   "metadata": {},
   "outputs": [
    {
     "name": "stdout",
     "output_type": "stream",
     "text": [
      "get age called!!\n",
      "15\n",
      "set_age called!!\n",
      "get age called!!\n",
      "20\n"
     ]
    }
   ],
   "source": [
    "john = Person(\"john\", 15)\n",
    "# print(john.age)\n",
    "print(john.get_age())\n",
    "# john.age = 15\n",
    "john.set_age(20)\n",
    "print(john.get_age())"
   ]
  },
  {
   "cell_type": "code",
   "execution_count": 35,
   "metadata": {},
   "outputs": [],
   "source": [
    "# getterとsetterに書き換え\n",
    "class Person:\n",
    "    def __init__(self, name, age) -> None:\n",
    "        self.name = name\n",
    "        self._age = age\n",
    "\n",
    "    def get_age(self):\n",
    "        print(\"get age called!!\")\n",
    "        return self._age\n",
    "\n",
    "    def set_age(self, age):\n",
    "        print(\"set_age called!!\")\n",
    "        if age < 0:\n",
    "            print(\"0以上の値を入れてください\")\n",
    "        else:\n",
    "            self._age = age\n",
    "\n",
    "    age = property(get_age, set_age)"
   ]
  },
  {
   "cell_type": "code",
   "execution_count": 38,
   "metadata": {},
   "outputs": [
    {
     "name": "stdout",
     "output_type": "stream",
     "text": [
      "get age called!!\n",
      "set_age called!!\n"
     ]
    }
   ],
   "source": [
    "john = Person(\"john\", 15)\n",
    "john.age  ## 通常なら直接変数を読みに行くのだが、getterが動いている\n",
    "john.age = 20  ## 通常なら直接変数を読みに行くのだが、getterが動いている"
   ]
  },
  {
   "cell_type": "markdown",
   "metadata": {},
   "source": [
    "## プロパティデコレータ"
   ]
  },
  {
   "cell_type": "code",
   "execution_count": 39,
   "metadata": {},
   "outputs": [],
   "source": [
    "# デコレータを使用したパイソニックな書き方にリファクタ\n",
    "class Person:\n",
    "    def __init__(self, name, age) -> None:\n",
    "        self.name = name\n",
    "        self._age = age\n",
    "\n",
    "    @property\n",
    "    def age(self):\n",
    "        print(\"get age called!!\")\n",
    "        return self._age\n",
    "\n",
    "    @age.setter\n",
    "    def age(self, age):\n",
    "        print(\"set_age called!!\")\n",
    "        if age < 0:\n",
    "            print(\"0以上の値を入れてください\")\n",
    "        else:\n",
    "            self._age = age\n",
    "\n",
    "    # age = property(get_age, set_age)"
   ]
  },
  {
   "cell_type": "code",
   "execution_count": 40,
   "metadata": {},
   "outputs": [
    {
     "name": "stdout",
     "output_type": "stream",
     "text": [
      "get age called!!\n",
      "set_age called!!\n"
     ]
    }
   ],
   "source": [
    "john = Person(\"john\", 15)\n",
    "john.age  ## 通常なら直接変数を読みに行くのだが、getterが動いている\n",
    "john.age = 20  ## 通常なら直接変数を読みに行くのだが、getterが動いている"
   ]
  },
  {
   "cell_type": "markdown",
   "metadata": {},
   "source": [
    "# 継承\n",
    "* 他のクラスをベースのクラスとして継承して、別のクラスを作ることができる\n",
    "* super class(親クラス、基底クラス)の機能を引き継ぎ、sub class(子クラス、派生クラス)として拡張することができる"
   ]
  },
  {
   "cell_type": "code",
   "execution_count": 46,
   "metadata": {},
   "outputs": [],
   "source": [
    "class Animal(object):\n",
    "    def __init__(self, name) -> None:\n",
    "        self.name = name\n",
    "        print(\"Animal init is called!!\")\n",
    "\n",
    "    def breath(self):\n",
    "        print(f\"{self.name} is breathing\")\n",
    "\n",
    "\n",
    "class Dog(Animal):\n",
    "    pass\n",
    "\n",
    "\n",
    "class Cat(Animal):\n",
    "    pass"
   ]
  },
  {
   "cell_type": "code",
   "execution_count": 47,
   "metadata": {},
   "outputs": [
    {
     "name": "stdout",
     "output_type": "stream",
     "text": [
      "Animal init is called!!\n",
      "Animal init is called!!\n",
      "pochi is breathing\n",
      "tama is breathing\n"
     ]
    }
   ],
   "source": [
    "# DogとCatのインスタンスを作成した段階で、Animalのinitが実行される\n",
    "pochi = Dog(\"pochi\")\n",
    "tama = Cat(\"tama\")\n",
    "pochi.breath()\n",
    "tama.breath()"
   ]
  },
  {
   "cell_type": "markdown",
   "metadata": {},
   "source": [
    "## 継承時のコンストラクタ(init)\n",
    "* sub classにコンストラクタがない場合、super classのinitが呼ばれる\n",
    "* sub classにコンストラクタがある場合、sub classのinitが優先される\n",
    "  * ただし、sub classのinitでsuper classのinitを使用することができる　super()"
   ]
  },
  {
   "cell_type": "code",
   "execution_count": 49,
   "metadata": {},
   "outputs": [
    {
     "ename": "TypeError",
     "evalue": "Dog.__init__() takes 1 positional argument but 2 were given",
     "output_type": "error",
     "traceback": [
      "\u001b[0;31m---------------------------------------------------------------------------\u001b[0m",
      "\u001b[0;31mTypeError\u001b[0m                                 Traceback (most recent call last)",
      "Cell \u001b[0;32mIn[49], line 20\u001b[0m\n\u001b[1;32m     16\u001b[0m \u001b[38;5;28;01mclass\u001b[39;00m \u001b[38;5;21;01mCat\u001b[39;00m(Animal):\n\u001b[1;32m     17\u001b[0m     \u001b[38;5;28;01mpass\u001b[39;00m\n\u001b[0;32m---> 20\u001b[0m pochi \u001b[38;5;241m=\u001b[39m \u001b[43mDog\u001b[49m\u001b[43m(\u001b[49m\u001b[38;5;124;43m\"\u001b[39;49m\u001b[38;5;124;43mpochi\u001b[39;49m\u001b[38;5;124;43m\"\u001b[39;49m\u001b[43m)\u001b[49m\n",
      "\u001b[0;31mTypeError\u001b[0m: Dog.__init__() takes 1 positional argument but 2 were given"
     ]
    }
   ],
   "source": [
    "# エラー例\n",
    "class Animal(object):\n",
    "    def __init__(self, name) -> None:\n",
    "        self.name = name\n",
    "        print(\"Animal init is called!!\")\n",
    "\n",
    "    def breath(self):\n",
    "        print(f\"{self.name} is breathing\")\n",
    "\n",
    "\n",
    "class Dog(Animal):\n",
    "    def __init__(self) -> None:\n",
    "        print(\"Dog is called!!\")\n",
    "\n",
    "\n",
    "class Cat(Animal):\n",
    "    pass\n",
    "\n",
    "\n",
    "pochi = Dog(\"pochi\")"
   ]
  },
  {
   "cell_type": "code",
   "execution_count": 51,
   "metadata": {},
   "outputs": [
    {
     "name": "stdout",
     "output_type": "stream",
     "text": [
      "Animal init is called!!\n",
      "Dog is called!!\n"
     ]
    }
   ],
   "source": [
    "class Animal(object):\n",
    "    def __init__(self, name) -> None:\n",
    "        self.name = name\n",
    "        print(\"Animal init is called!!\")\n",
    "\n",
    "    def breath(self):\n",
    "        print(f\"{self.name} is breathing\")\n",
    "\n",
    "\n",
    "class Dog(Animal):\n",
    "    def __init__(self, name) -> None:\n",
    "        # self.name = name 親と同じこと書いている\n",
    "        super().__init__(name=name)\n",
    "        print(\"Dog is called!!\")\n",
    "\n",
    "\n",
    "class Cat(Animal):\n",
    "    pass\n",
    "\n",
    "\n",
    "pochi = Dog(\"pochi\")"
   ]
  },
  {
   "cell_type": "markdown",
   "metadata": {},
   "source": [
    "## Challenge"
   ]
  },
  {
   "cell_type": "markdown",
   "metadata": {},
   "source": []
  }
 ],
 "metadata": {
  "kernelspec": {
   "display_name": "Python 3",
   "language": "python",
   "name": "python3"
  },
  "language_info": {
   "codemirror_mode": {
    "name": "ipython",
    "version": 3
   },
   "file_extension": ".py",
   "mimetype": "text/x-python",
   "name": "python",
   "nbconvert_exporter": "python",
   "pygments_lexer": "ipython3",
   "version": "3.11.6"
  }
 },
 "nbformat": 4,
 "nbformat_minor": 2
}
